{
 "cells": [
  {
   "cell_type": "markdown",
   "metadata": {
    "deletable": true,
    "editable": true
   },
   "source": [
    "# Análisis de Tweets #"
   ]
  },
  {
   "cell_type": "markdown",
   "metadata": {
    "deletable": true,
    "editable": true
   },
   "source": [
    "<div align=\"justify\">\n",
    "Variables para TweetPy\n",
    "</div>\n",
    "\n",
    "| Variable        | Tipo de dato  | Descripción                       |\n",
    "| --------------- | ------------: | --------------------------------- |\n",
    "| consumer_key    | String        | Consumidor llave                  |\n",
    "| consumer_secret | String        | Consumidor secreto                |\n",
    "| access_key      | String        | Acceso llave                      |\n",
    "| access_secret   | String        | Acceso secreto                    |"
   ]
  },
  {
   "cell_type": "code",
   "execution_count": 1,
   "metadata": {
    "collapsed": true,
    "deletable": true,
    "editable": true
   },
   "outputs": [],
   "source": [
    "consumer_key = \"gBlPQ75wdroVezt5HoYIvErzm\"\n",
    "consumer_secret = \"LJNbWEqePHa7GiNpCRKKSS01FoIOZV7Wdfmnxo9V1GHlHXOVrM\"\n",
    "access_key = \"784264322893557761-SkRdYJjnWUiqbauxRaBBTvMNGA4yP8i\"\n",
    "access_secret = \"BC9p8mnkyTsIqXH7ydYtzbs3QYJ6lvoasy7okjsXgYEdO\""
   ]
  },
  {
   "cell_type": "markdown",
   "metadata": {
    "deletable": true,
    "editable": true
   },
   "source": [
    "<div align=\"justify\">\n",
    "Variables para OandaPy\n",
    "</div>\n",
    "\n",
    "| Variable     | Tipo de dato  | Descripción                       |\n",
    "| :----------: | ------------: | --------------------------------- |\n",
    "| OA_AT        | String        | Tipo de cuenta                    |\n",
    "| OA_Gn        | String        | Frecuencia de muestra de precio   |\n",
    "| OA_In        | String        | Instrumento Financiero a utilizar |\n",
    "| OA_Ai        | Entero        | ID de cuenta                      |\n",
    "| OA_Ta        | String        | Uso horario (No aplica)           |"
   ]
  },
  {
   "cell_type": "code",
   "execution_count": 2,
   "metadata": {
    "collapsed": true,
    "deletable": true,
    "editable": true
   },
   "outputs": [],
   "source": [
    "OA_At = \"practice\"           # Tipo de cuenta.\n",
    "OA_Gn = \"M5\"                 # Frecuencia de muestra de precio.\n",
    "OA_In = \"USD_MXN\"            # Instrumento Financiero a utilizar.\n",
    "OA_Ai = 1742531              # ID de cuenta\n",
    "OA_Ta = \"America/Monterrey\"  # Uso horario\n",
    "OA_Tk = \"ada4a61b0d5bc0e5939365e01450b614-4121f84f01ad78942c46fc3ac777baa6\""
   ]
  },
  {
   "cell_type": "markdown",
   "metadata": {
    "deletable": true,
    "editable": true
   },
   "source": [
    "<div align=\"justify\">\n",
    "Declaramos nuesto usuario a consultar y una cantidad de tweets a consultar desde el último publicado.\n",
    "</div>"
   ]
  },
  {
   "cell_type": "code",
   "execution_count": 3,
   "metadata": {
    "collapsed": true,
    "deletable": true,
    "editable": true
   },
   "outputs": [],
   "source": [
    "usuario_a_consultar = 'realDonaldTrump'\n",
    "cantidad_tweets = 1000"
   ]
  },
  {
   "cell_type": "markdown",
   "metadata": {
    "deletable": true,
    "editable": true
   },
   "source": [
    "<div align=\"justify\">\n",
    "Se guarda en una lista las palabras a consultar.\n",
    "</div>"
   ]
  },
  {
   "cell_type": "code",
   "execution_count": 4,
   "metadata": {
    "collapsed": true,
    "deletable": true,
    "editable": true
   },
   "outputs": [],
   "source": [
    "lista_palabras = ['mexico', 'illega', 'nafta', 'immigra']"
   ]
  },
  {
   "cell_type": "markdown",
   "metadata": {
    "deletable": true,
    "editable": true
   },
   "source": [
    "<div align=\"justify\">\n",
    "Se crea una función para poder consultar información de tweeter y guarda el resultado en una variable. <br> Para ello también se debe importar Tweepy.\n",
    "</div>"
   ]
  },
  {
   "cell_type": "code",
   "execution_count": 5,
   "metadata": {
    "collapsed": true,
    "deletable": true,
    "editable": true
   },
   "outputs": [],
   "source": [
    "import tweepy"
   ]
  },
  {
   "cell_type": "code",
   "execution_count": 6,
   "metadata": {
    "collapsed": true,
    "deletable": true,
    "editable": true
   },
   "outputs": [],
   "source": [
    "def retornar_api(consumer_key, consumer_secret, access_key, access_secret):\n",
    "    auth = tweepy.OAuthHandler(consumer_key, consumer_secret)\n",
    "    auth.set_access_token(access_key, access_secret)\n",
    "    api_retorno = tweepy.API(auth)\n",
    "    return api_retorno"
   ]
  },
  {
   "cell_type": "code",
   "execution_count": 7,
   "metadata": {
    "collapsed": true,
    "deletable": true,
    "editable": true
   },
   "outputs": [],
   "source": [
    "api = retornar_api(consumer_key, consumer_secret, access_key, access_secret)"
   ]
  },
  {
   "cell_type": "markdown",
   "metadata": {
    "deletable": true,
    "editable": true
   },
   "source": [
    "<div align=\"justify\">\n",
    "Para un mejor tratamiento y manimulacion de datos, se importa la librería pandas para esto.\n",
    "</div>"
   ]
  },
  {
   "cell_type": "code",
   "execution_count": 8,
   "metadata": {
    "collapsed": true,
    "deletable": true,
    "editable": true
   },
   "outputs": [],
   "source": [
    "import pandas as pd"
   ]
  },
  {
   "cell_type": "markdown",
   "metadata": {
    "deletable": true,
    "editable": true
   },
   "source": [
    "<div align=\"justify\">\n",
    "La siguiente función regresa un data frame de pandas, mandando como argumentos, la variable que regresa tweepy, el nombre de usuario y la cantidad de tweets a consultar.<br><br>\n",
    "Se agregó una variable llamada irregular la cual mide si la api no nos regresa exactamente 200 tweets y hubo un ciclo donde no fue 200 el retorno de tweets, es por eso que el ultimo tweet es 998, es decir, nuestro conjuntos de datos tiene un tamaño de 999 tweets.\n",
    "</div>"
   ]
  },
  {
   "cell_type": "code",
   "execution_count": 9,
   "metadata": {
    "collapsed": false,
    "deletable": true,
    "editable": true
   },
   "outputs": [],
   "source": [
    "def consultar_tweets_usuario(tweeter_api, usuario, cantidad):\n",
    "    indice = 0\n",
    "    irregular = 0\n",
    "    tweets = tweeter_api.user_timeline(screen_name=usuario, count=200)\n",
    "    ultimo_tweet = tweets[-1].id - 1\n",
    "    columnas = ('texto', 't_inicial', 'retweets', 'favoritos')\n",
    "    df = pd.DataFrame(columns=columnas)\n",
    "    for t in tweets:\n",
    "        df.loc[indice] = t.text, t.created_at, t.retweet_count, t.favorite_count\n",
    "        indice += 1\n",
    "    while len(tweets) > 0 and df.shape[0] + irregular < cantidad:\n",
    "        tweets = tweeter_api.user_timeline(screen_name=usuario, count=200, max_id=ultimo_tweet)\n",
    "        irregular = irregular + (200 - len(tweets))\n",
    "        for t in tweets:\n",
    "            df.loc[indice] = t.text, t.created_at, t.retweet_count, t.favorite_count\n",
    "            indice += 1\n",
    "        ultimo_tweet = tweets[-1].id - 1\n",
    "    return df"
   ]
  },
  {
   "cell_type": "markdown",
   "metadata": {
    "deletable": true,
    "editable": true
   },
   "source": [
    "<div align=\"justify\">\n",
    "Para vizualizar el conjuntos de datos, se crea una función, regresando el mismo conjuntos de datos con un estilo definido por pandas.\n",
    "</div>"
   ]
  },
  {
   "cell_type": "code",
   "execution_count": null,
   "metadata": {
    "collapsed": true,
    "deletable": true,
    "editable": true
   },
   "outputs": [],
   "source": [
    "def formatear_tabla(df):\n",
    "    return df.style"
   ]
  },
  {
   "cell_type": "markdown",
   "metadata": {
    "deletable": true,
    "editable": true
   },
   "source": [
    "<div align=\"justify\">\n",
    "Se visualiza el encabezado del conjunto de datos\n",
    "</div>"
   ]
  },
  {
   "cell_type": "code",
   "execution_count": null,
   "metadata": {
    "collapsed": false,
    "deletable": true,
    "editable": true
   },
   "outputs": [],
   "source": [
    "datos = consultar_tweets_usuario(api, usuario_a_consultar, cantidad_tweets)\n",
    "formatear_tabla(datos.head())"
   ]
  },
  {
   "cell_type": "markdown",
   "metadata": {
    "deletable": true,
    "editable": true
   },
   "source": [
    "<div align=\"justify\">\n",
    "También se visualiza los ultimos tweets para verificar la cantidad.\n",
    "</div>"
   ]
  },
  {
   "cell_type": "code",
   "execution_count": null,
   "metadata": {
    "collapsed": false,
    "deletable": true,
    "editable": true
   },
   "outputs": [],
   "source": [
    "formatear_tabla(datos.tail())"
   ]
  },
  {
   "cell_type": "code",
   "execution_count": null,
   "metadata": {
    "collapsed": false,
    "deletable": true,
    "editable": true
   },
   "outputs": [],
   "source": [
    "def cantidad_tweets(df):\n",
    "    return df.shape[0]"
   ]
  },
  {
   "cell_type": "code",
   "execution_count": null,
   "metadata": {
    "collapsed": false,
    "deletable": true,
    "editable": true
   },
   "outputs": [],
   "source": [
    "cantidad_tweets(datos)"
   ]
  },
  {
   "cell_type": "markdown",
   "metadata": {
    "deletable": true,
    "editable": true
   },
   "source": [
    "<div align=\"justify\">\n",
    "Utilizando la lista de palabras para encontrar, se busca si existe una o más palabras en cada tweet, para guardar\n",
    "los tweets que se interesan y que palabras están en cada uno.\n",
    "</div>"
   ]
  },
  {
   "cell_type": "code",
   "execution_count": null,
   "metadata": {
    "collapsed": true,
    "deletable": true,
    "editable": true
   },
   "outputs": [],
   "source": [
    "import re"
   ]
  },
  {
   "cell_type": "code",
   "execution_count": null,
   "metadata": {
    "collapsed": true,
    "deletable": true,
    "editable": true
   },
   "outputs": [],
   "source": [
    "def palabras_en_texto(palabras, texto):\n",
    "    texto = re.sub(r'\\W', '', texto).lower()\n",
    "    detectado = False\n",
    "    lista = list()\n",
    "    for palabra in palabras:\n",
    "        palabra = palabra.lower()\n",
    "        relacion = re.search(palabra, texto)\n",
    "        if relacion:\n",
    "            detectado = True\n",
    "            lista.append(palabra)\n",
    "    return detectado, '-'.join(lista)"
   ]
  },
  {
   "cell_type": "code",
   "execution_count": null,
   "metadata": {
    "collapsed": true,
    "deletable": true,
    "editable": true
   },
   "outputs": [],
   "source": [
    "def filtrar_por_palabras(df, palabras):\n",
    "    retorno = df['texto'].apply(lambda tweet: palabras_en_texto(palabras, tweet))\n",
    "    df['encontrado'] = tuple(map(lambda x: x[0], retorno))\n",
    "    df['palabras'] = tuple(map(lambda x: x[1], retorno))\n",
    "    df = df[df.encontrado]\n",
    "    df = df.drop(['encontrado'], axis=1)\n",
    "    return df"
   ]
  },
  {
   "cell_type": "markdown",
   "metadata": {
    "deletable": true,
    "editable": true
   },
   "source": [
    "<div align=\"justify\">\n",
    "Se puede observar que nuestro conjunto de datos es más corto, y una nueva columna que guarda que palabras encontró en cada \n",
    "tweet.\n",
    "</div>"
   ]
  },
  {
   "cell_type": "code",
   "execution_count": null,
   "metadata": {
    "collapsed": false,
    "deletable": true,
    "editable": true
   },
   "outputs": [],
   "source": [
    "datos = filtrar_por_palabras(datos, lista_palabras)\n",
    "cantidad_tweets(datos)"
   ]
  },
  {
   "cell_type": "markdown",
   "metadata": {
    "deletable": true,
    "editable": true
   },
   "source": [
    "<div align=\"justify\">\n",
    "Ahora solo se tiene 35 tweets de los 1000 que se obtuvieron.\n",
    "</div>"
   ]
  },
  {
   "cell_type": "code",
   "execution_count": null,
   "metadata": {
    "collapsed": false,
    "deletable": true,
    "editable": true
   },
   "outputs": [],
   "source": [
    "formatear_tabla(datos.head())"
   ]
  },
  {
   "cell_type": "markdown",
   "metadata": {
    "deletable": true,
    "editable": true
   },
   "source": [
    "<div align=\"justify\">\n",
    "Tambien se debe excluir los tweets en fechas donde no hay precios.\n",
    "</div>"
   ]
  },
  {
   "cell_type": "code",
   "execution_count": null,
   "metadata": {
    "collapsed": true,
    "deletable": true,
    "editable": true
   },
   "outputs": [],
   "source": [
    "def filtrar_tiempos(df):\n",
    "    df['t_inicial'] = pd.to_datetime(df['t_inicial'])\n",
    "    # Remover los sabados\n",
    "    sabado = df[df['t_inicial'].dt.dayofweek == 5]\n",
    "    # Remover los viernes despues de las 22:00:00 utc-0\n",
    "    viernes = df[df['t_inicial'].dt.dayofweek == 4]\n",
    "    viernes = viernes[viernes['t_inicial'].dt.hour > 22]\n",
    "    # Remover los domingos antes de las 12:00:00 utc-0\n",
    "    domingo = df[df['t_inicial'].dt.dayofweek == 6]\n",
    "    domingo = domingo[domingo['t_inicial'].dt.hour < 22]\n",
    "    df = df.drop(sabado.index)\n",
    "    df = df.drop(viernes.index)\n",
    "    df = df.drop(domingo.index)\n",
    "    return df"
   ]
  },
  {
   "cell_type": "code",
   "execution_count": null,
   "metadata": {
    "collapsed": false,
    "deletable": true,
    "editable": true
   },
   "outputs": [],
   "source": [
    "datos = filtrar_tiempos(datos)\n",
    "cantidad_tweets(datos)"
   ]
  },
  {
   "cell_type": "code",
   "execution_count": null,
   "metadata": {
    "collapsed": false,
    "deletable": true,
    "editable": true
   },
   "outputs": [],
   "source": [
    "formatear_tabla(datos.head())"
   ]
  },
  {
   "cell_type": "markdown",
   "metadata": {
    "deletable": true,
    "editable": true
   },
   "source": [
    "<div align=\"justify\">\n",
    "Una vez filtrados los tweets por palabras y las fechas donde hay precios, se procede a extraer los precios de Oanda,\n",
    "para utilizar la libreria Oandapy, primero se le da un formato valido a cada fecha.\n",
    "En este caso de tuvo que unir la fecha y el tiempo con una T.\n",
    "<br>Ejemplo:\n",
    "<br><br>Antes: 2017-03-03 02:38:48\n",
    "<br>Después: 2017-03-03T02:38:48\n",
    "</div>"
   ]
  },
  {
   "cell_type": "code",
   "execution_count": null,
   "metadata": {
    "collapsed": true,
    "deletable": true,
    "editable": true
   },
   "outputs": [],
   "source": [
    "def formato_tiempo(df):\n",
    "    df['t_inicial'] = df.t_inicial.apply(lambda x: x.strftime('%Y-%m-%dT%H:%M:%S'))\n",
    "    return df"
   ]
  },
  {
   "cell_type": "markdown",
   "metadata": {
    "deletable": true,
    "editable": true
   },
   "source": [
    "<div align=\"justify\">\n",
    "Validando el formato deseado\n",
    "</div>"
   ]
  },
  {
   "cell_type": "code",
   "execution_count": null,
   "metadata": {
    "collapsed": false,
    "deletable": true,
    "editable": true
   },
   "outputs": [],
   "source": [
    "datos = formato_tiempo(datos)\n",
    "formatear_tabla(datos.head())"
   ]
  },
  {
   "cell_type": "markdown",
   "metadata": {
    "deletable": true,
    "editable": true
   },
   "source": [
    "<div align=\"justify\">\n",
    "En la función obtener_precios se manda el conjunto de datos, con los parametros que se inicializarón al principio.\n",
    "Se obtienen 3 nuevas columnas en nuestro conjunto de datos.\n",
    "<br><br>\n",
    "precio_inicial = precio en el minuto de la fecha que fue publicado el tweet.\n",
    "<br><br>\n",
    "precio_final = precio hora después de la fecha que fue publicado el tweet.\n",
    "<br><br>\n",
    "volatilidad = Se obtiene a partir de los rendimientos de cada 5 minutos, en el lapso de tiempo desde que se publicó el tweet hasta una hora después, despues de obtener los rendimientos, se calcula la desviación estandar y se multiplica por 100.\n",
    "</div>"
   ]
  },
  {
   "cell_type": "code",
   "execution_count": null,
   "metadata": {
    "collapsed": true,
    "deletable": true,
    "editable": true
   },
   "outputs": [],
   "source": [
    "import oandapy\n",
    "import numpy as np"
   ]
  },
  {
   "cell_type": "code",
   "execution_count": null,
   "metadata": {
    "collapsed": true,
    "deletable": true,
    "editable": true
   },
   "outputs": [],
   "source": [
    "def obtener_precios(df, oa_at, oa_tk, oa_in, oa_ta,\n",
    "                    oa_gn):\n",
    "    oanda = oandapy.API(environment=oa_at, access_token=oa_tk)\n",
    "    p_inicial = list()\n",
    "    p_final = list()\n",
    "    volatilidad = list()\n",
    "    for indice, fila in df.iterrows():\n",
    "        precios = oanda.get_history(instrument=oa_in, start=fila['t_inicial'], dailyAlignment=1,\n",
    "                                    alignmentTimezone=oa_ta, granularity=oa_gn, count=12)\n",
    "        precios = pd.DataFrame(precios['candles'])\n",
    "        p_inicial.append(precios['closeAsk'][0])\n",
    "        p_final.append(precios['closeAsk'][1])\n",
    "        rendimientos = np.log(precios['closeAsk'] / precios['closeAsk'].shift(1))\n",
    "        volatilidad.append(np.std(rendimientos) * 100)\n",
    "    df['p_inicial'] = p_inicial\n",
    "    df['p_final'] = p_final\n",
    "    df['volatilidad'] = volatilidad\n",
    "    return df"
   ]
  },
  {
   "cell_type": "code",
   "execution_count": null,
   "metadata": {
    "collapsed": false,
    "deletable": true,
    "editable": true
   },
   "outputs": [],
   "source": [
    "datos = obtener_precios(datos, OA_At, OA_Tk, OA_In, OA_Ta, OA_Gn)\n",
    "formatear_tabla(datos.head())"
   ]
  },
  {
   "cell_type": "markdown",
   "metadata": {
    "deletable": true,
    "editable": true
   },
   "source": [
    "<div align=\"justify\">\n",
    "Se marca tendencia para cada tweets para saber si subio o bajo el precio una hora despues de que fue publicado.\n",
    "</div>"
   ]
  },
  {
   "cell_type": "code",
   "execution_count": null,
   "metadata": {
    "collapsed": true,
    "deletable": true,
    "editable": true
   },
   "outputs": [],
   "source": [
    "def marcar_tendencia(df):\n",
    "    df['tendencia'] = \"\"\n",
    "    df.loc[(df['p_inicial'] > df['p_final']), 'tendencia'] = 'bajista'\n",
    "    df.loc[(df['p_inicial'] < df['p_final']), 'tendencia'] = 'alcista'\n",
    "    df.loc[(df['p_inicial'] == df['p_final']), 'tendencia'] = 'igual'\n",
    "    return df"
   ]
  },
  {
   "cell_type": "code",
   "execution_count": null,
   "metadata": {
    "collapsed": false,
    "deletable": true,
    "editable": true
   },
   "outputs": [],
   "source": [
    "datos = marcar_tendencia(datos)\n",
    "formatear_tabla(datos.head())"
   ]
  },
  {
   "cell_type": "markdown",
   "metadata": {
    "deletable": true,
    "editable": true
   },
   "source": [
    "<div align=\"justify\">\n",
    "Se calcula el rendimiento en pips, se calcula de 2 maneras diferentes dependiendo de su tendencia.\n",
    "<br><br>\n",
    "alcista = (precio_inicial - precio_final) x 10000\n",
    "<br><br>\n",
    "bajista = (precio_final - precio_inicial) x 10000\n",
    "</div>"
   ]
  },
  {
   "cell_type": "code",
   "execution_count": null,
   "metadata": {
    "collapsed": true,
    "deletable": true,
    "editable": true
   },
   "outputs": [],
   "source": [
    "def rendimientos_en_pips(df):\n",
    "    df['rendimiento'] = 0.0\n",
    "    df.loc[(df['tendencia'] == 'bajista'), \n",
    "           'rendimiento'] = (df['p_inicial'] - df['p_final']) * 10000\n",
    "    \n",
    "    df.loc[(df['tendencia'] == 'alcista'),\n",
    "           'rendimiento'] = (df['p_final'] - df['p_inicial']) * 10000\n",
    "    return df"
   ]
  },
  {
   "cell_type": "code",
   "execution_count": null,
   "metadata": {
    "collapsed": false,
    "deletable": true,
    "editable": true
   },
   "outputs": [],
   "source": [
    "datos = rendimientos_en_pips(datos)\n",
    "formatear_tabla(datos.head())"
   ]
  }
 ],
 "metadata": {
  "kernelspec": {
   "display_name": "Python 3",
   "language": "python",
   "name": "python3"
  },
  "language_info": {
   "codemirror_mode": {
    "name": "ipython",
    "version": 3
   },
   "file_extension": ".py",
   "mimetype": "text/x-python",
   "name": "python",
   "nbconvert_exporter": "python",
   "pygments_lexer": "ipython3",
   "version": "3.5.2"
  }
 },
 "nbformat": 4,
 "nbformat_minor": 2
}
